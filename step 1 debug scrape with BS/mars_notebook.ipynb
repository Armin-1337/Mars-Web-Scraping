{
 "cells": [
  {
   "cell_type": "code",
   "execution_count": 8,
   "metadata": {},
   "outputs": [],
   "source": [
    "from bs4 import BeautifulSoup\n",
    "import time\n",
    "import requests\n",
    "import pymongo\n",
    "import pandas as pd\n",
    "from splinter import Browser\n",
    "from splinter.exceptions import ElementDoesNotExist"
   ]
  },
  {
   "cell_type": "code",
   "execution_count": 2,
   "metadata": {},
   "outputs": [],
   "source": [
    "executable_path = {'executable_path': 'chromedriver.exe'}\n",
    "browser = Browser('chrome', **executable_path, headless=False)"
   ]
  },
  {
   "cell_type": "code",
   "execution_count": 9,
   "metadata": {},
   "outputs": [],
   "source": [
    "#Scrape news title and paragraph\n",
    "url_1 = 'https://mars.nasa.gov/news/'\n",
    "browser.visit(url_1)"
   ]
  },
  {
   "cell_type": "code",
   "execution_count": 10,
   "metadata": {},
   "outputs": [],
   "source": [
    "html = browser.html\n",
    "soup = BeautifulSoup(html, 'html.parser')"
   ]
  },
  {
   "cell_type": "code",
   "execution_count": 11,
   "metadata": {},
   "outputs": [],
   "source": [
    "#gotta narrow search down to \"slide\" div first\n",
    "slide = soup.find('li', class_='slide')"
   ]
  },
  {
   "cell_type": "code",
   "execution_count": 12,
   "metadata": {},
   "outputs": [
    {
     "data": {
      "text/plain": [
       "\"NASA's Curiosity Mars Rover Takes a New Selfie Before Record Climb\""
      ]
     },
     "execution_count": 12,
     "metadata": {},
     "output_type": "execute_result"
    }
   ],
   "source": [
    "title = slide.find('div', class_='content_title').text\n",
    "title"
   ]
  },
  {
   "cell_type": "code",
   "execution_count": 13,
   "metadata": {},
   "outputs": [
    {
     "data": {
      "text/plain": [
       "'Along with capturing an image before its steepest ascent ever, the robotic explorer filmed its \"selfie stick,\" or robotic arm, in action.'"
      ]
     },
     "execution_count": 13,
     "metadata": {},
     "output_type": "execute_result"
    }
   ],
   "source": [
    "paragraph = slide.find('div', class_='article_teaser_body').text\n",
    "paragraph"
   ]
  },
  {
   "cell_type": "code",
   "execution_count": 14,
   "metadata": {},
   "outputs": [],
   "source": [
    "#Scrape image and image url\n",
    "url_2 = 'https://www.jpl.nasa.gov/spaceimages/?search=&category=Mars'\n",
    "browser.visit(url_2)"
   ]
  },
  {
   "cell_type": "code",
   "execution_count": 15,
   "metadata": {},
   "outputs": [
    {
     "name": "stderr",
     "output_type": "stream",
     "text": [
      "C:\\Users\\anger\\Anaconda3\\lib\\site-packages\\splinter\\driver\\webdriver\\__init__.py:504: FutureWarning: browser.find_link_by_partial_text is deprecated. Use browser.links.find_by_partial_text instead.\n",
      "  FutureWarning,\n"
     ]
    }
   ],
   "source": [
    "browser.click_link_by_partial_text('FULL IMAGE')"
   ]
  },
  {
   "cell_type": "code",
   "execution_count": 16,
   "metadata": {},
   "outputs": [],
   "source": [
    "browser.click_link_by_partial_text('more info')"
   ]
  },
  {
   "cell_type": "code",
   "execution_count": 17,
   "metadata": {},
   "outputs": [],
   "source": [
    "html = browser.html\n",
    "soup = BeautifulSoup(html, 'html.parser')"
   ]
  },
  {
   "cell_type": "code",
   "execution_count": 18,
   "metadata": {},
   "outputs": [
    {
     "data": {
      "text/plain": [
       "'/spaceimages/images/largesize/PIA18897_hires.jpg'"
      ]
     },
     "execution_count": 18,
     "metadata": {},
     "output_type": "execute_result"
    }
   ],
   "source": [
    "featured_image = soup.find('img', class_='main_image').attrs['src']\n",
    "featured_image"
   ]
  },
  {
   "cell_type": "code",
   "execution_count": 19,
   "metadata": {},
   "outputs": [
    {
     "data": {
      "text/plain": [
       "'https://www.jpl.nasa.gov/spaceimages/images/largesize/PIA18897_hires.jpg'"
      ]
     },
     "execution_count": 19,
     "metadata": {},
     "output_type": "execute_result"
    }
   ],
   "source": [
    "featured_image_url = f\"https://www.jpl.nasa.gov{featured_image}\"\n",
    "featured_image_url"
   ]
  },
  {
   "cell_type": "code",
   "execution_count": 22,
   "metadata": {},
   "outputs": [
    {
     "data": {
      "text/plain": [
       "str"
      ]
     },
     "execution_count": 22,
     "metadata": {},
     "output_type": "execute_result"
    }
   ],
   "source": [
    "type(featured_image)"
   ]
  },
  {
   "cell_type": "code",
   "execution_count": 14,
   "metadata": {},
   "outputs": [],
   "source": [
    "#Scrape weather\n",
    "#Using requests since chromedriver is garbo for twitter\n",
    "url_3='https://twitter.com/marswxreport?lang=en'\n",
    "response=requests.get(url_3)\n",
    "#set up parser\n",
    "soup=BeautifulSoup(response.text, 'lxml')"
   ]
  },
  {
   "cell_type": "code",
   "execution_count": 15,
   "metadata": {
    "collapsed": true
   },
   "outputs": [
    {
     "data": {
      "text/plain": [
       "<div class=\"tweet js-stream-tweet js-actionable-tweet js-profile-popup-actionable dismissible-content original-tweet js-original-tweet tweet-has-context has-cards has-content\" data-conversation-id=\"1240654752100298752\" data-disclosure-type=\"\" data-follows-you=\"false\" data-has-cards=\"true\" data-item-id=\"1240654752100298752\" data-name=\"NASA Earth\" data-permalink-path=\"/NASAEarth/status/1240654752100298752\" data-reply-to-users-json='[{\"id_str\":\"24919888\",\"screen_name\":\"NASAEarth\",\"name\":\"NASA Earth\",\"emojified_name\":{\"text\":\"NASA Earth\",\"emojified_text_as_html\":\"NASA Earth\"}},{\"id_str\":\"786939553\",\"screen_name\":\"MarsWxReport\",\"name\":\"Mars Weather\",\"emojified_name\":{\"text\":\"Mars Weather\",\"emojified_text_as_html\":\"Mars Weather\"}}]' data-retweet-id=\"1240658291631501316\" data-retweeter=\"MarsWxReport\" data-screen-name=\"NASAEarth\" data-tweet-id=\"1240654752100298752\" data-tweet-nonce=\"1240654752100298752-0203127e-6b26-446c-b145-fb89445c9cfa\" data-tweet-stat-initialized=\"true\" data-user-id=\"24919888\" data-you-block=\"false\" data-you-follow=\"false\">\n",
       "<div class=\"context\">\n",
       "<div class=\"tweet-context with-icn\">\n",
       "<span class=\"Icon Icon--small Icon--retweeted\"></span>\n",
       "<span class=\"js-retweet-text\">\n",
       "<a class=\"pretty-link js-user-profile-link\" data-user-id=\"786939553\" href=\"/MarsWxReport\" rel=\"noopener\"><b>Mars Weather</b></a> Retweeted\n",
       "            </span>\n",
       "</div>\n",
       "</div>\n",
       "<div class=\"content\">\n",
       "<div class=\"stream-item-header\">\n",
       "<a class=\"account-group js-account-group js-action-profile js-user-profile-link js-nav\" data-user-id=\"24919888\" href=\"/NASAEarth\">\n",
       "<img alt=\"\" class=\"avatar js-action-profile-avatar\" src=\"https://pbs.twimg.com/profile_images/674396782630014976/qNGmQlRC_bigger.png\"/>\n",
       "<span class=\"FullNameGroup\">\n",
       "<strong class=\"fullname show-popup-with-id u-textTruncate\" data-aria-label-part=\"\">NASA Earth</strong><span>‏</span><span class=\"UserBadges\"><span class=\"Icon Icon--verified\"><span class=\"u-hiddenVisually\">Verified account</span></span></span><span class=\"UserNameBreak\"> </span></span><span class=\"username u-dir u-textTruncate\" data-aria-label-part=\"\" dir=\"ltr\">@<b>NASAEarth</b></span></a>\n",
       "<small class=\"time\">\n",
       "<a class=\"tweet-timestamp js-permalink js-nav js-tooltip\" data-conversation-id=\"1240654752100298752\" href=\"/NASAEarth/status/1240654752100298752\" title=\"8:01 AM - 19 Mar 2020\"><span class=\"_timestamp js-short-timestamp\" data-aria-label-part=\"last\" data-long-form=\"true\" data-time=\"1584630117\" data-time-ms=\"1584630117000\">Mar 19</span></a>\n",
       "</small>\n",
       "<div class=\"ProfileTweet-action ProfileTweet-action--more js-more-ProfileTweet-actions\">\n",
       "<div class=\"dropdown\">\n",
       "<button class=\"ProfileTweet-actionButton u-textUserColorHover dropdown-toggle js-dropdown-toggle\" type=\"button\">\n",
       "<div class=\"IconContainer js-tooltip\" title=\"More\">\n",
       "<span class=\"Icon Icon--caretDownLight Icon--small\"></span>\n",
       "<span class=\"u-hiddenVisually\">More</span>\n",
       "</div>\n",
       "</button>\n",
       "<div class=\"dropdown-menu is-autoCentered\">\n",
       "<div class=\"dropdown-caret\">\n",
       "<div class=\"caret-outer\"></div>\n",
       "<div class=\"caret-inner\"></div>\n",
       "</div>\n",
       "<ul>\n",
       "<li class=\"copy-link-to-tweet js-actionCopyLinkToTweet\">\n",
       "<button class=\"dropdown-link\" type=\"button\">Copy link to Tweet</button>\n",
       "</li>\n",
       "<li class=\"embed-link js-actionEmbedTweet\" data-nav=\"embed_tweet\">\n",
       "<button class=\"dropdown-link\" type=\"button\">Embed Tweet</button>\n",
       "</li>\n",
       "</ul>\n",
       "</div>\n",
       "</div>\n",
       "</div>\n",
       "</div>\n",
       "<div class=\"js-tweet-text-container\">\n",
       "<p class=\"TweetTextSize TweetTextSize--normal js-tweet-text tweet-text\" data-aria-label-part=\"0\" lang=\"en\"><img alt=\"🌎\" aria-label=\"Emoji: Earth globe americas\" class=\"Emoji Emoji--forText\" draggable=\"false\" src=\"https://abs.twimg.com/emoji/v2/72x72/1f30e.png\" title=\"Earth globe americas\"/><img alt=\"🗓\" aria-label=\"Emoji: Spiral calendar pad\" class=\"Emoji Emoji--forText\" draggable=\"false\" src=\"https://abs.twimg.com/emoji/v2/72x72/1f5d3.png\" title=\"Spiral calendar pad\"/> T-34 days until <a class=\"twitter-hashtag pretty-link js-nav\" data-query-source=\"hashtag_click\" dir=\"ltr\" href=\"/hashtag/EarthDay50?src=hash\"><s>#</s><b>EarthDay50</b></a>\n",
       "It’s the <a class=\"twitter-hashtag pretty-link js-nav\" data-query-source=\"hashtag_click\" dir=\"ltr\" href=\"/hashtag/FirstDayOfSpring?src=hash\"><s>#</s><b>FirstDayOfSpring</b></a> <img alt=\"🌱\" aria-label=\"Emoji: Seedling\" class=\"Emoji Emoji--forText\" draggable=\"false\" src=\"https://abs.twimg.com/emoji/v2/72x72/1f331.png\" title=\"Seedling\"/> in the Northern Hemisphere and for some, that means planting season. Tools originally designed for space can help farmers grow crops <img alt=\"🌾\" aria-label=\"Emoji: Ear of rice\" class=\"Emoji Emoji--forText\" draggable=\"false\" src=\"https://abs.twimg.com/emoji/v2/72x72/1f33e.png\" title=\"Ear of rice\"/> here on Earth. \n",
       "<a class=\"twitter-timeline-link\" data-expanded-url=\"https://go.nasa.gov/2U0dXBk\" dir=\"ltr\" href=\"https://t.co/oFFMrf14h0\" rel=\"nofollow noopener\" target=\"_blank\" title=\"https://go.nasa.gov/2U0dXBk\"><span class=\"tco-ellipsis\"></span><span class=\"invisible\">https://</span><span class=\"js-display-url\">go.nasa.gov/2U0dXBk</span><span class=\"invisible\"></span><span class=\"tco-ellipsis\"><span class=\"invisible\"> </span></span></a><a class=\"twitter-timeline-link u-hidden\" data-pre-embedded=\"true\" dir=\"ltr\" href=\"https://t.co/9KCQ5RzN5A\">pic.twitter.com/9KCQ5RzN5A</a></p>\n",
       "</div>\n",
       "<div class=\"AdaptiveMediaOuterContainer\">\n",
       "<div class=\"AdaptiveMedia is-square\">\n",
       "<div class=\"AdaptiveMedia-container\">\n",
       "<div class=\"AdaptiveMedia-singlePhoto\" style=\"padding-top: calc(0.6640625 * 100% - 0.5px);\">\n",
       "<div class=\"AdaptiveMedia-photoContainer js-adaptive-photo\" data-dominant-color=\"[19,40,64]\" data-element-context=\"platform_photo_card\" data-image-url=\"https://pbs.twimg.com/media/ETew6-bXQAIrJqb.jpg\" style=\"background-color:rgba(19,40,64,1.0);\">\n",
       "<img alt=\"Astronaut working with vegetation on the Space Station with the Earth Day logo\" data-aria-label-part=\"\" src=\"https://pbs.twimg.com/media/ETew6-bXQAIrJqb.jpg\" style=\"width: 100%; top: -0px;\"/>\n",
       "</div>\n",
       "</div>\n",
       "</div>\n",
       "</div>\n",
       "</div>\n",
       "<div class=\"stream-item-footer\">\n",
       "<div class=\"ProfileTweet-actionCountList u-hiddenVisually\">\n",
       "<span class=\"ProfileTweet-action--reply u-hiddenVisually\">\n",
       "<span class=\"ProfileTweet-actionCount\" data-tweet-stat-count=\"5\">\n",
       "<span class=\"ProfileTweet-actionCountForAria\" data-aria-label-part=\"\" id=\"profile-tweet-action-reply-count-aria-1240654752100298752\">5 replies</span>\n",
       "</span>\n",
       "</span>\n",
       "<span class=\"ProfileTweet-action--retweet u-hiddenVisually\">\n",
       "<span class=\"ProfileTweet-actionCount\" data-tweet-stat-count=\"31\">\n",
       "<span class=\"ProfileTweet-actionCountForAria\" data-aria-label-part=\"\" id=\"profile-tweet-action-retweet-count-aria-1240654752100298752\">31 retweets</span>\n",
       "</span>\n",
       "</span>\n",
       "<span class=\"ProfileTweet-action--favorite u-hiddenVisually\">\n",
       "<span class=\"ProfileTweet-actionCount\" data-tweet-stat-count=\"159\">\n",
       "<span class=\"ProfileTweet-actionCountForAria\" data-aria-label-part=\"\" id=\"profile-tweet-action-favorite-count-aria-1240654752100298752\">159 likes</span>\n",
       "</span>\n",
       "</span>\n",
       "</div>\n",
       "<div aria-label=\"Tweet actions\" class=\"ProfileTweet-actionList js-actions\" role=\"group\">\n",
       "<div class=\"ProfileTweet-action ProfileTweet-action--reply\">\n",
       "<button aria-describedby=\"profile-tweet-action-reply-count-aria-1240654752100298752\" class=\"ProfileTweet-actionButton js-actionButton js-actionReply\" data-modal=\"ProfileTweet-reply\" type=\"button\">\n",
       "<div class=\"IconContainer js-tooltip\" title=\"Reply\">\n",
       "<span class=\"Icon Icon--medium Icon--reply\"></span>\n",
       "<span class=\"u-hiddenVisually\">Reply</span>\n",
       "</div>\n",
       "<span class=\"ProfileTweet-actionCount\">\n",
       "<span aria-hidden=\"true\" class=\"ProfileTweet-actionCountForPresentation\">5</span>\n",
       "</span>\n",
       "</button>\n",
       "</div>\n",
       "<div class=\"ProfileTweet-action ProfileTweet-action--retweet js-toggleState js-toggleRt\">\n",
       "<button aria-describedby=\"profile-tweet-action-retweet-count-aria-1240654752100298752\" class=\"ProfileTweet-actionButton js-actionButton js-actionRetweet\" data-modal=\"ProfileTweet-retweet\" type=\"button\">\n",
       "<div class=\"IconContainer js-tooltip\" title=\"Retweet\">\n",
       "<span class=\"Icon Icon--medium Icon--retweet\"></span>\n",
       "<span class=\"u-hiddenVisually\">Retweet</span>\n",
       "</div>\n",
       "<span class=\"ProfileTweet-actionCount\">\n",
       "<span aria-hidden=\"true\" class=\"ProfileTweet-actionCountForPresentation\">31</span>\n",
       "</span>\n",
       "</button><button class=\"ProfileTweet-actionButtonUndo js-actionButton js-actionRetweet\" data-modal=\"ProfileTweet-retweet\" type=\"button\">\n",
       "<div class=\"IconContainer js-tooltip\" title=\"Undo retweet\">\n",
       "<span class=\"Icon Icon--medium Icon--retweet\"></span>\n",
       "<span class=\"u-hiddenVisually\">Retweeted</span>\n",
       "</div>\n",
       "<span class=\"ProfileTweet-actionCount\">\n",
       "<span aria-hidden=\"true\" class=\"ProfileTweet-actionCountForPresentation\">31</span>\n",
       "</span>\n",
       "</button>\n",
       "</div>\n",
       "<div class=\"ProfileTweet-action ProfileTweet-action--favorite js-toggleState\">\n",
       "<button aria-describedby=\"profile-tweet-action-favorite-count-aria-1240654752100298752\" class=\"ProfileTweet-actionButton js-actionButton js-actionFavorite\" type=\"button\">\n",
       "<div class=\"IconContainer js-tooltip\" title=\"Like\">\n",
       "<span class=\"Icon Icon--heart Icon--medium\" role=\"presentation\"></span>\n",
       "<div class=\"HeartAnimation\"></div>\n",
       "<span class=\"u-hiddenVisually\">Like</span>\n",
       "</div>\n",
       "<span class=\"ProfileTweet-actionCount\">\n",
       "<span aria-hidden=\"true\" class=\"ProfileTweet-actionCountForPresentation\">159</span>\n",
       "</span>\n",
       "</button><button class=\"ProfileTweet-actionButtonUndo ProfileTweet-action--unfavorite u-linkClean js-actionButton js-actionFavorite\" type=\"button\">\n",
       "<div class=\"IconContainer js-tooltip\" title=\"Undo like\">\n",
       "<span class=\"Icon Icon--heart Icon--medium\" role=\"presentation\"></span>\n",
       "<div class=\"HeartAnimation\"></div>\n",
       "<span class=\"u-hiddenVisually\">Liked</span>\n",
       "</div>\n",
       "<span class=\"ProfileTweet-actionCount\">\n",
       "<span aria-hidden=\"true\" class=\"ProfileTweet-actionCountForPresentation\">159</span>\n",
       "</span>\n",
       "</button>\n",
       "</div>\n",
       "</div>\n",
       "</div>\n",
       "</div>\n",
       "</div>"
      ]
     },
     "execution_count": 15,
     "metadata": {},
     "output_type": "execute_result"
    }
   ],
   "source": [
    "#Tweets are organized by div classes called 'tweet'\n",
    "soup.find_all('div', class_=\"tweet\")[2]"
   ]
  },
  {
   "cell_type": "code",
   "execution_count": 16,
   "metadata": {},
   "outputs": [
    {
     "data": {
      "text/plain": [
       "'Fred Calef (@cirquelar) keeper of the Martian maps talks other worldly cartography on the latest episode of the @TWIScience podcasthttps://www.twis.org/18-april-2020-episode-765-who-has-the-mars-maps/\\xa0…'"
      ]
     },
     "execution_count": 16,
     "metadata": {},
     "output_type": "execute_result"
    }
   ],
   "source": [
    "#pick out attributes specific to mars weather, most recent will be the first result\n",
    "mars_weather_tweet = soup.find(\"div\", attrs={\"class\": \"tweet\", \"data-name\": \"Mars Weather\"})\n",
    "mars_weather=mars_weather_tweet.find('div', class_='js-tweet-text-container').p.text\n",
    "mars_weather"
   ]
  },
  {
   "cell_type": "code",
   "execution_count": 17,
   "metadata": {},
   "outputs": [],
   "source": [
    "# Mars facts\n",
    "url_4 = 'https://space-facts.com/mars/'"
   ]
  },
  {
   "cell_type": "code",
   "execution_count": 18,
   "metadata": {},
   "outputs": [],
   "source": [
    "tables = pd.read_html(url_4)"
   ]
  },
  {
   "cell_type": "code",
   "execution_count": 19,
   "metadata": {},
   "outputs": [
    {
     "data": {
      "text/html": [
       "<div>\n",
       "<style scoped>\n",
       "    .dataframe tbody tr th:only-of-type {\n",
       "        vertical-align: middle;\n",
       "    }\n",
       "\n",
       "    .dataframe tbody tr th {\n",
       "        vertical-align: top;\n",
       "    }\n",
       "\n",
       "    .dataframe thead th {\n",
       "        text-align: right;\n",
       "    }\n",
       "</style>\n",
       "<table border=\"1\" class=\"dataframe\">\n",
       "  <thead>\n",
       "    <tr style=\"text-align: right;\">\n",
       "      <th></th>\n",
       "      <th>0</th>\n",
       "      <th>1</th>\n",
       "    </tr>\n",
       "  </thead>\n",
       "  <tbody>\n",
       "    <tr>\n",
       "      <th>0</th>\n",
       "      <td>Equatorial Diameter:</td>\n",
       "      <td>6,792 km</td>\n",
       "    </tr>\n",
       "    <tr>\n",
       "      <th>1</th>\n",
       "      <td>Polar Diameter:</td>\n",
       "      <td>6,752 km</td>\n",
       "    </tr>\n",
       "    <tr>\n",
       "      <th>2</th>\n",
       "      <td>Mass:</td>\n",
       "      <td>6.39 × 10^23 kg (0.11 Earths)</td>\n",
       "    </tr>\n",
       "    <tr>\n",
       "      <th>3</th>\n",
       "      <td>Moons:</td>\n",
       "      <td>2 (Phobos &amp; Deimos)</td>\n",
       "    </tr>\n",
       "    <tr>\n",
       "      <th>4</th>\n",
       "      <td>Orbit Distance:</td>\n",
       "      <td>227,943,824 km (1.38 AU)</td>\n",
       "    </tr>\n",
       "    <tr>\n",
       "      <th>5</th>\n",
       "      <td>Orbit Period:</td>\n",
       "      <td>687 days (1.9 years)</td>\n",
       "    </tr>\n",
       "    <tr>\n",
       "      <th>6</th>\n",
       "      <td>Surface Temperature:</td>\n",
       "      <td>-87 to -5 °C</td>\n",
       "    </tr>\n",
       "    <tr>\n",
       "      <th>7</th>\n",
       "      <td>First Record:</td>\n",
       "      <td>2nd millennium BC</td>\n",
       "    </tr>\n",
       "    <tr>\n",
       "      <th>8</th>\n",
       "      <td>Recorded By:</td>\n",
       "      <td>Egyptian astronomers</td>\n",
       "    </tr>\n",
       "  </tbody>\n",
       "</table>\n",
       "</div>"
      ],
      "text/plain": [
       "                      0                              1\n",
       "0  Equatorial Diameter:                       6,792 km\n",
       "1       Polar Diameter:                       6,752 km\n",
       "2                 Mass:  6.39 × 10^23 kg (0.11 Earths)\n",
       "3                Moons:            2 (Phobos & Deimos)\n",
       "4       Orbit Distance:       227,943,824 km (1.38 AU)\n",
       "5         Orbit Period:           687 days (1.9 years)\n",
       "6  Surface Temperature:                   -87 to -5 °C\n",
       "7         First Record:              2nd millennium BC\n",
       "8          Recorded By:           Egyptian astronomers"
      ]
     },
     "execution_count": 19,
     "metadata": {},
     "output_type": "execute_result"
    }
   ],
   "source": [
    "df = tables[0]\n",
    "df.head(10)"
   ]
  },
  {
   "cell_type": "code",
   "execution_count": 20,
   "metadata": {},
   "outputs": [
    {
     "data": {
      "text/plain": [
       "'<table border=\"1\" class=\"dataframe\">\\n  <thead>\\n    <tr style=\"text-align: right;\">\\n      <th></th>\\n      <th>0</th>\\n      <th>1</th>\\n    </tr>\\n  </thead>\\n  <tbody>\\n    <tr>\\n      <th>0</th>\\n      <td>Equatorial Diameter:</td>\\n      <td>6,792 km</td>\\n    </tr>\\n    <tr>\\n      <th>1</th>\\n      <td>Polar Diameter:</td>\\n      <td>6,752 km</td>\\n    </tr>\\n    <tr>\\n      <th>2</th>\\n      <td>Mass:</td>\\n      <td>6.39 × 10^23 kg (0.11 Earths)</td>\\n    </tr>\\n    <tr>\\n      <th>3</th>\\n      <td>Moons:</td>\\n      <td>2 (Phobos &amp; Deimos)</td>\\n    </tr>\\n    <tr>\\n      <th>4</th>\\n      <td>Orbit Distance:</td>\\n      <td>227,943,824 km (1.38 AU)</td>\\n    </tr>\\n    <tr>\\n      <th>5</th>\\n      <td>Orbit Period:</td>\\n      <td>687 days (1.9 years)</td>\\n    </tr>\\n    <tr>\\n      <th>6</th>\\n      <td>Surface Temperature:</td>\\n      <td>-87 to -5 °C</td>\\n    </tr>\\n    <tr>\\n      <th>7</th>\\n      <td>First Record:</td>\\n      <td>2nd millennium BC</td>\\n    </tr>\\n    <tr>\\n      <th>8</th>\\n      <td>Recorded By:</td>\\n      <td>Egyptian astronomers</td>\\n    </tr>\\n  </tbody>\\n</table>'"
      ]
     },
     "execution_count": 20,
     "metadata": {},
     "output_type": "execute_result"
    }
   ],
   "source": [
    "df.to_html()"
   ]
  },
  {
   "cell_type": "code",
   "execution_count": 21,
   "metadata": {},
   "outputs": [],
   "source": [
    "#Mars Hemisphere \n",
    "url_5 = 'https://astrogeology.usgs.gov/search/results?q=hemisphere+enhanced&k1=target&v1=Mars'\n",
    "browser.visit(url_5)\n",
    "html = browser.html\n",
    "soup = BeautifulSoup(html, 'html.parser')"
   ]
  },
  {
   "cell_type": "code",
   "execution_count": 22,
   "metadata": {},
   "outputs": [],
   "source": [
    "response=requests.get(url_5)\n",
    "#set up parser\n",
    "py_soup=BeautifulSoup(response.text, 'lxml')"
   ]
  },
  {
   "cell_type": "code",
   "execution_count": 23,
   "metadata": {},
   "outputs": [],
   "source": [
    "items = py_soup.find(\"div\", class_=\"collapsible results\")"
   ]
  },
  {
   "cell_type": "code",
   "execution_count": 24,
   "metadata": {},
   "outputs": [
    {
     "name": "stdout",
     "output_type": "stream",
     "text": [
      "Found the URL: /search/map/Mars/Viking/cerberus_enhanced\n",
      "Found the URL: /search/map/Mars/Viking/schiaparelli_enhanced\n",
      "Found the URL: /search/map/Mars/Viking/syrtis_major_enhanced\n",
      "Found the URL: /search/map/Mars/Viking/valles_marineris_enhanced\n"
     ]
    }
   ],
   "source": [
    "for a in items.find_all('a', href=True):\n",
    "    print (\"Found the URL:\", a['href'])"
   ]
  },
  {
   "cell_type": "code",
   "execution_count": 25,
   "metadata": {},
   "outputs": [
    {
     "name": "stderr",
     "output_type": "stream",
     "text": [
      "C:\\Users\\anger\\Anaconda3\\lib\\site-packages\\splinter\\driver\\webdriver\\__init__.py:512: FutureWarning: browser.find_link_by_text is deprecated. Use browser.links.find_by_text instead.\n",
      "  FutureWarning,\n"
     ]
    }
   ],
   "source": [
    "hemisphere_image_urls = []\n",
    "for a in items.find_all('a', href=True):\n",
    "    hemisphere = {}\n",
    "    Linku = (\"https://astrogeology.usgs.gov\"+ a['href'])\n",
    "    browser.visit(Linku)\n",
    "    time.sleep(1)\n",
    "    hemisphere['title'] = browser.find_by_css(\"h2.title\").text\n",
    "    picturelinku = browser.find_link_by_text('Sample')\n",
    "    hemisphere['img_url'] = picturelinku['href']\n",
    "    hemisphere_image_urls.append(hemisphere)\n",
    "    time.sleep(1)"
   ]
  },
  {
   "cell_type": "code",
   "execution_count": 26,
   "metadata": {},
   "outputs": [
    {
     "data": {
      "text/plain": [
       "[{'title': 'Cerberus Hemisphere Enhanced',\n",
       "  'img_url': 'http://astropedia.astrogeology.usgs.gov/download/Mars/Viking/cerberus_enhanced.tif/full.jpg'},\n",
       " {'title': 'Schiaparelli Hemisphere Enhanced',\n",
       "  'img_url': 'http://astropedia.astrogeology.usgs.gov/download/Mars/Viking/schiaparelli_enhanced.tif/full.jpg'},\n",
       " {'title': 'Syrtis Major Hemisphere Enhanced',\n",
       "  'img_url': 'http://astropedia.astrogeology.usgs.gov/download/Mars/Viking/syrtis_major_enhanced.tif/full.jpg'},\n",
       " {'title': 'Valles Marineris Hemisphere Enhanced',\n",
       "  'img_url': 'http://astropedia.astrogeology.usgs.gov/download/Mars/Viking/valles_marineris_enhanced.tif/full.jpg'}]"
      ]
     },
     "execution_count": 26,
     "metadata": {},
     "output_type": "execute_result"
    }
   ],
   "source": [
    "hemisphere_image_urls"
   ]
  },
  {
   "cell_type": "code",
   "execution_count": 27,
   "metadata": {},
   "outputs": [],
   "source": [
    "browser.quit()"
   ]
  },
  {
   "cell_type": "code",
   "execution_count": null,
   "metadata": {},
   "outputs": [],
   "source": []
  }
 ],
 "metadata": {
  "kernelspec": {
   "display_name": "Python 3",
   "language": "python",
   "name": "python3"
  },
  "language_info": {
   "codemirror_mode": {
    "name": "ipython",
    "version": 3
   },
   "file_extension": ".py",
   "mimetype": "text/x-python",
   "name": "python",
   "nbconvert_exporter": "python",
   "pygments_lexer": "ipython3",
   "version": "3.7.3"
  }
 },
 "nbformat": 4,
 "nbformat_minor": 2
}
